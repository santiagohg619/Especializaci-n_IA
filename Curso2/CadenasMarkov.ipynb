{
 "cells": [
  {
   "cell_type": "code",
   "execution_count": 1,
   "metadata": {},
   "outputs": [
    {
     "data": {
      "text/plain": [
       "'\\nUna cadena de Markov (CM) es un tipo particular de proceso estocástico. Una CM \\ntiene probabilidades de transición estacionarias, es decir, no dependen del tiempo. \\nLas probabilidades del estado siguiente dependen únicamente del estado presente y \\nno de los estados pasados.\\nEsto permite que la CM se pueda representar de manera compacata con un grafo. Por ejemplo:\\n\\n\\nEn este caso la CM tiene dos estados. Los parámetros de las aristas son las \\nprobabilidades de transición de estado.\\n\\nPor ejemplo, en esta CM la probabilidad de transitar del estado 1 al estado 2 es de 0.7.\\n\\nEsto lo denotamos como  P(st+1=2∣st=1)=0.7\\n'"
      ]
     },
     "execution_count": 1,
     "metadata": {},
     "output_type": "execute_result"
    }
   ],
   "source": [
    "\"\"\"\n",
    "Una cadena de Markov (CM) es un tipo particular de proceso estocástico. Una CM \n",
    "tiene probabilidades de transición estacionarias, es decir, no dependen del tiempo. \n",
    "Las probabilidades del estado siguiente dependen únicamente del estado presente y \n",
    "no de los estados pasados.\n",
    "Esto permite que la CM se pueda representar de manera compacata con un grafo. Por ejemplo:\n",
    "\n",
    "\n",
    "En este caso la CM tiene dos estados. Los parámetros de las aristas son las \n",
    "probabilidades de transición de estado.\n",
    "\n",
    "Por ejemplo, en esta CM la probabilidad de transitar del estado 1 al estado 2 es de 0.7.\n",
    "\n",
    "Esto lo denotamos como  P(st+1=2∣st=1)=0.7\n",
    "\"\"\""
   ]
  },
  {
   "cell_type": "code",
   "execution_count": 2,
   "metadata": {},
   "outputs": [
    {
     "data": {
      "text/plain": [
       "'\\nLas probabilidades de transición de una cadena de Markov se pueden representar \\nde manera matricial.\\nEn este caso la matrix de probabilidades de transición  T\\nqueda dada por:\\n\\nT=[0.30.70.60.4]\\n\\nEn python podemos utilizar el paquete científico numpy. La manera de \\nrepresentar esta matriz en Python es como sigue:\\n'"
      ]
     },
     "execution_count": 2,
     "metadata": {},
     "output_type": "execute_result"
    }
   ],
   "source": [
    "\"\"\"\n",
    "Las probabilidades de transición de una cadena de Markov se pueden representar \n",
    "de manera matricial.\n",
    "En este caso la matrix de probabilidades de transición  T\n",
    "queda dada por:\n",
    "\n",
    "T=[0.30.70.60.4]\n",
    "\n",
    "En python podemos utilizar el paquete científico numpy. La manera de \n",
    "representar esta matriz en Python es como sigue:\n",
    "\"\"\""
   ]
  },
  {
   "cell_type": "code",
   "execution_count": 14,
   "metadata": {},
   "outputs": [
    {
     "name": "stdout",
     "output_type": "stream",
     "text": [
      "Collecting numpy"
     ]
    },
    {
     "name": "stderr",
     "output_type": "stream",
     "text": [
      "  Cache entry deserialization failed, entry ignored\n",
      "You are using pip version 9.0.3, however version 24.0 is available.\n",
      "You should consider upgrading via the 'python -m pip install --upgrade pip' command.\n"
     ]
    },
    {
     "name": "stdout",
     "output_type": "stream",
     "text": [
      "\n",
      "  Downloading https://files.pythonhosted.org/packages/ea/bc/da526221bc111857c7ef39c3af670bbcf5e69c247b0d22e51986f6d0c5c2/numpy-1.19.5-cp36-cp36m-win_amd64.whl (13.2MB)\n",
      "Installing collected packages: numpy\n",
      "Successfully installed numpy-1.19.5\n"
     ]
    }
   ],
   "source": [
    "!pip install numpy"
   ]
  },
  {
   "cell_type": "code",
   "execution_count": 15,
   "metadata": {},
   "outputs": [
    {
     "name": "stdout",
     "output_type": "stream",
     "text": [
      "[[0.3 0.6]\n",
      " [0.7 0.4]]\n"
     ]
    }
   ],
   "source": [
    "\n",
    "import numpy as np\n",
    "\n",
    "T = np.matrix([[0.3,0.6],[0.7,0.4]])\n",
    "print(T)"
   ]
  },
  {
   "cell_type": "code",
   "execution_count": 16,
   "metadata": {},
   "outputs": [
    {
     "name": "stdout",
     "output_type": "stream",
     "text": [
      "x =\n",
      "[[1]\n",
      " [0]]\n",
      "x(t+1)=\n",
      "[[0.3]\n",
      " [0.7]]\n",
      "x(t+2)=\n",
      "[[0.51]\n",
      " [0.49]]\n"
     ]
    }
   ],
   "source": [
    "x = np.matrix([[1],[0]])\n",
    "print('x =\\n'+str(x))\n",
    "x_1 = np.matmul(T,x)\n",
    "print('x(t+1)=\\n'+str(x_1))\n",
    "x_2 = np.matmul(T,x_1)\n",
    "print('x(t+2)=\\n'+str(x_2))"
   ]
  },
  {
   "cell_type": "code",
   "execution_count": 17,
   "metadata": {},
   "outputs": [
    {
     "name": "stdout",
     "output_type": "stream",
     "text": [
      "x(t+2)=\n",
      "[[0.51]\n",
      " [0.49]]\n"
     ]
    }
   ],
   "source": [
    "x_2 = np.matmul(np.linalg.matrix_power(T,2),x)\n",
    "print('x(t+2)=\\n'+str(x_2))"
   ]
  },
  {
   "cell_type": "code",
   "execution_count": 18,
   "metadata": {},
   "outputs": [],
   "source": [
    "def calcula_dist(T,x_0,n):\n",
    "    x_n = np.matmul(np.linalg.matrix_power(T,n),x_0)\n",
    "    print('x(t+'+str(n)+')=\\n'+str(x_n))"
   ]
  },
  {
   "cell_type": "code",
   "execution_count": 19,
   "metadata": {},
   "outputs": [
    {
     "name": "stdout",
     "output_type": "stream",
     "text": [
      "x(t+5)=\n",
      "[[0.46023]\n",
      " [0.53977]]\n"
     ]
    }
   ],
   "source": [
    "x_5 = calcula_dist(T,x,5)"
   ]
  },
  {
   "cell_type": "code",
   "execution_count": 20,
   "metadata": {},
   "outputs": [
    {
     "name": "stdout",
     "output_type": "stream",
     "text": [
      "x(t+0)=\n",
      "[[1.]\n",
      " [0.]]\n",
      "x(t+1)=\n",
      "[[0.3]\n",
      " [0.7]]\n",
      "x(t+2)=\n",
      "[[0.51]\n",
      " [0.49]]\n",
      "x(t+3)=\n",
      "[[0.447]\n",
      " [0.553]]\n",
      "x(t+4)=\n",
      "[[0.4659]\n",
      " [0.5341]]\n",
      "x(t+5)=\n",
      "[[0.46023]\n",
      " [0.53977]]\n",
      "x(t+6)=\n",
      "[[0.461931]\n",
      " [0.538069]]\n",
      "x(t+7)=\n",
      "[[0.4614207]\n",
      " [0.5385793]]\n",
      "x(t+8)=\n",
      "[[0.46157379]\n",
      " [0.53842621]]\n",
      "x(t+9)=\n",
      "[[0.46152786]\n",
      " [0.53847214]]\n"
     ]
    }
   ],
   "source": [
    "for i in range(10):\n",
    "    calcula_dist(T,x,i)"
   ]
  },
  {
   "cell_type": "code",
   "execution_count": 21,
   "metadata": {},
   "outputs": [
    {
     "name": "stdout",
     "output_type": "stream",
     "text": [
      "[-0.3  1. ]\n",
      "[[-0.70710678 -0.65079137]\n",
      " [ 0.70710678 -0.7592566 ]]\n"
     ]
    }
   ],
   "source": [
    "l,v = np.linalg.eig(T)\n",
    "print(l)\n",
    "print(v)"
   ]
  },
  {
   "cell_type": "code",
   "execution_count": 22,
   "metadata": {},
   "outputs": [
    {
     "name": "stdout",
     "output_type": "stream",
     "text": [
      "[[0.46153846]\n",
      " [0.53846154]]\n"
     ]
    }
   ],
   "source": [
    "x_s = v[:,1] / sum(v[:,1])\n",
    "print(x_s)"
   ]
  },
  {
   "cell_type": "code",
   "execution_count": null,
   "metadata": {},
   "outputs": [],
   "source": [
    "# comienza por definir la matriz de probabilidad T\n",
    "# T = \n",
    "\n",
    "# define un estado inicial, por ejemplo que el agente se encuentra en b\n",
    "# x = \n",
    "\n",
    "# ¿que pasa al iterar 50 veces la ecuación?\n",
    "#calcula_dist(T,x,50)\n",
    "\n",
    "# Calcula eigenvectores\n",
    "#l,v = np.linalg.eig(T)\n",
    "#print(l)\n",
    "#print(v)\n",
    "\n",
    "# Identifica la columna correspondiente para el eigenvalor 1\n",
    "# recuerda que en Python los índices comienzan en 0\n",
    "#columna  =\n",
    "\n",
    "#normaliza para obtener la distribución\n",
    "#x_s = v[:,columna] / sum(v[:,columna])\n",
    "#print(x_s)\n",
    "\n",
    "#compara tus resultados ¿es la mísma distribución?"
   ]
  },
  {
   "cell_type": "code",
   "execution_count": 24,
   "metadata": {},
   "outputs": [
    {
     "name": "stdout",
     "output_type": "stream",
     "text": [
      "[[0.47619048]\n",
      " [0.19047619]\n",
      " [0.33333333]]\n"
     ]
    }
   ],
   "source": [
    "T=np.matrix([[0.7,0.4,0.2],[0.1,0.4,0.2],[0.2,0.2,0.6]]) #matriz([[eleme,elem],[elmen,elemst],[elemes,elems]])\n",
    "#print(T)\n",
    "\n",
    "x=np.matrix([[0],[1],[0]]) #Agente inicial, donde empieza, en este caso b\n",
    "#print(x)\n",
    "\n",
    "#x_50=calcula_dist(T,x,50) #que pasa al iterar 50 veces, para eso sirve el metodo\n",
    "\n",
    "##Calculo de los eigenvectores\n",
    "l,v = np.linalg.eig(T)  #Sirve para calcular los eigenvectores\n",
    "#print(l) #Arroja los valores propios de la matriz(raices)\n",
    "#print(v) #Arroja los vectores propios de la matriz\n",
    "\n",
    "columna=0  #Escoger el valor que tenga 1 de los valroes propios (Vector l)\n",
    "x_s = v[:,columna] / sum(v[:,columna]) #Sirve para normalizar el vector\n",
    "print(x_s)"
   ]
  }
 ],
 "metadata": {
  "kernelspec": {
   "display_name": "Python 3",
   "language": "python",
   "name": "python3"
  },
  "language_info": {
   "codemirror_mode": {
    "name": "ipython",
    "version": 3
   },
   "file_extension": ".py",
   "mimetype": "text/x-python",
   "name": "python",
   "nbconvert_exporter": "python",
   "pygments_lexer": "ipython3",
   "version": "3.6.5"
  }
 },
 "nbformat": 4,
 "nbformat_minor": 2
}
