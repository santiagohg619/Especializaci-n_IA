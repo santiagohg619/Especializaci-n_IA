{
 "cells": [
  {
   "cell_type": "code",
   "execution_count": 1,
   "metadata": {},
   "outputs": [
    {
     "data": {
      "text/plain": [
       "'\\nUna red de Bayes (RB) es un modelo gráfico probabilístico que usa inferencia de Bayes y \\nestá basado en el concepto de independencia condicional.\\nUna red de Bayes tiene un grafo acíclico dirigido donde los vertices pueden ser \\nliterales de una lógica proposicional.\\nAquí incluimos una clase de Python para representar literales. Esta clase \\nserá necesaria para la implementación de nuestra RB.\\n'"
      ]
     },
     "execution_count": 1,
     "metadata": {},
     "output_type": "execute_result"
    }
   ],
   "source": [
    "\"\"\"\n",
    "Una red de Bayes (RB) es un modelo gráfico probabilístico que usa inferencia de Bayes y \n",
    "está basado en el concepto de independencia condicional.\n",
    "Una red de Bayes tiene un grafo acíclico dirigido donde los vertices pueden ser \n",
    "literales de una lógica proposicional.\n",
    "Aquí incluimos una clase de Python para representar literales. Esta clase \n",
    "será necesaria para la implementación de nuestra RB.\n",
    "\"\"\""
   ]
  },
  {
   "cell_type": "code",
   "execution_count": 2,
   "metadata": {},
   "outputs": [],
   "source": [
    "import re\n",
    "class Literal:\n",
    "    \n",
    "    def __init__(self,input=None,variable=None,value=None):\n",
    "        if input:\n",
    "            self.parse(input)\n",
    "        else:\n",
    "            self.variable = variable\n",
    "            self.value = value\n",
    "        \n",
    "    def parse(self,input):\n",
    "        c = re.match(\"([~]?)\\s*(\\w+)\",input)\n",
    "        if c is None:\n",
    "            raise Exception(\"cannot parse a literal from the input: \"+ input)\n",
    "        self.variable = c.group(2)\n",
    "        self.value = not c.group(1)\n",
    "    \n",
    "    def __str__(self):\n",
    "        return self.variable if self.value else \"~\"+self.variable\n",
    "    \n",
    "    def __repr__(self):\n",
    "        return self.__str__()\n",
    "    \n",
    "    def __hash__(self):\n",
    "        return hash(self.__str__())\n",
    "    \n",
    "    def __eq__(self,l):\n",
    "        return l.variable == self.variable and l.value == self.value\n",
    "    \n",
    "    def __ne__(self,other):\n",
    "        return not self.__eq__(other)\n",
    "        \n",
    "    def __lt__(self,other):\n",
    "        if self.variable == other.variable:\n",
    "            return self.value < other.value\n",
    "        return self.variable < other.variable"
   ]
  },
  {
   "cell_type": "code",
   "execution_count": 3,
   "metadata": {},
   "outputs": [
    {
     "name": "stdout",
     "output_type": "stream",
     "text": [
      "~A\n"
     ]
    }
   ],
   "source": [
    "l = Literal(variable='A',value=False)\n",
    "print(l)"
   ]
  },
  {
   "cell_type": "code",
   "execution_count": 4,
   "metadata": {},
   "outputs": [
    {
     "data": {
      "text/plain": [
       "'\\nTabla de Probabilidad Condicional\\nEn una RB los vertices tienen asociados parámetros numéricos que representan \\nprobabilidades condicionales. Hemos definido una clase de Python que representa \\nuna tabla de parámetros. En el constructor indicamos la variable proposicional \\na la que se asocia la tabla y la tabla se especifica como una lista de tuplas. \\nCada tupla tiene dos valores, el primero es una cadena que contiene las \\nliterales de un renglón de la tabla separadas por coma. El segundo valor es \\nla probabilidad correspondiente.\\n'"
      ]
     },
     "execution_count": 4,
     "metadata": {},
     "output_type": "execute_result"
    }
   ],
   "source": [
    "\"\"\"\n",
    "Tabla de Probabilidad Condicional\n",
    "En una RB los vertices tienen asociados parámetros numéricos que representan \n",
    "probabilidades condicionales. Hemos definido una clase de Python que representa \n",
    "una tabla de parámetros. En el constructor indicamos la variable proposicional \n",
    "a la que se asocia la tabla y la tabla se especifica como una lista de tuplas. \n",
    "Cada tupla tiene dos valores, el primero es una cadena que contiene las \n",
    "literales de un renglón de la tabla separadas por coma. El segundo valor es \n",
    "la probabilidad correspondiente.\n",
    "\"\"\""
   ]
  },
  {
   "cell_type": "code",
   "execution_count": 5,
   "metadata": {},
   "outputs": [],
   "source": [
    "from itertools import product as cartesian\n",
    "from functools import reduce\n",
    "# Conditional probability table\n",
    "class CPT:\n",
    "    # initializes the condional probability table for the given variable\n",
    "    # table, a list of pairs (v,p)\n",
    "    # where v is a string with a comma separated list of literals\n",
    "    # and p the corresponding probability\n",
    "    # for example:\n",
    "    # [(\"~A,~B\",0.5),(\"~A,B\",0.8),(\"A,~B\",0.3),(\"A,B\",0.9)]\n",
    "    def __init__(self,variable,table):\n",
    "        self.variable = variable\n",
    "        #parse variables from first row of table\n",
    "        self.parents = CPT.parseVariables(table[0][0])\n",
    "        self.fillDictionary(table)\n",
    "        \n",
    "    # parses the variables from the first row of the table\n",
    "    @staticmethod\n",
    "    def parseVariables(s):\n",
    "        return set([l.variable for l in CPT.stringToLiteralList(s)])\n",
    "\n",
    "    # obtains all variations of the given variables\n",
    "    @staticmethod\n",
    "    def computeKeys(variables):\n",
    "        entries = []\n",
    "        if len(variables) == 1:\n",
    "            (v,)= variables\n",
    "            keys = [CPT.formatLiteral(Literal(variable=v,value=False)),\\\n",
    "                    CPT.formatLiteral(Literal(variable=v,value=True))] \n",
    "        else:            \n",
    "            for e in [CPT.flatten(i,[]) \\\n",
    "            for i in list(reduce(lambda x,y:cartesian(x,y), \\\n",
    "            [cartesian([v],[False,True]) for v in sorted(variables)]))]:\n",
    "                entries.append([Literal(variable=a[0],value=a[1]) for a in e])\n",
    "            keys = [reduce(lambda x,y: \\\n",
    "            CPT.formatLiteral(x)+','+CPT.formatLiteral(y),e) for e in entries]\n",
    "        return keys\n",
    "    \n",
    "    @staticmethod\n",
    "    def formatLiteral(l):\n",
    "        return str(l).rjust(len(str(l))+1) \\\n",
    "        if l.value else str(l).rjust(len(str(l)))\n",
    "        \n",
    "    # fills the conditional probability table\n",
    "    def fillDictionary(self,table):\n",
    "        self.table = {self.hashString(row[0]):row[1] for row in table}\n",
    "    \n",
    "    # converts the string to a list of literals\n",
    "    @staticmethod\n",
    "    def stringToLiteralList(s):\n",
    "        l=[] \n",
    "        # there are parents\n",
    "        if s:\n",
    "            l = [Literal(l) for l in s.split(\",\")]\n",
    "        return l\n",
    "    \n",
    "    # hashes the provided string (list of literals)\n",
    "    def hashString(self,s):\n",
    "        return hash(frozenset(self.stringToLiteralList(s)))\n",
    "    \n",
    "    # allows indexing of the table\n",
    "    def __getitem__(self,s):\n",
    "        return self.table[self.hashString(s)]\n",
    "    \n",
    "    # allows changing probabilities in the table\n",
    "    def __setitem__(self,s,p):\n",
    "            self.table[self.hashString(s)] = p\n",
    "            \n",
    "    def __repr__(self):\n",
    "        return self.__str__()\n",
    "    \n",
    "    # pretty printing of the conditional probability table\n",
    "    def __str__(self):\n",
    "        s = \"CPT for variable \"+self.variable+\"\\n\"\n",
    "        if self.parents:\n",
    "            for key in CPT.computeKeys(self.parents):\n",
    "                s += \"P(\"+self.variable+\"|\"+key+\") = \"\\\n",
    "                +str(\"%.4f\" % self[key]) + \"\\n\"\n",
    "        else:\n",
    "            s += \"P(\"+self.variable+ \") = \" + str(\"%.4f\" % self['']) + \"\\n\"\n",
    "        return s\n",
    "        \n",
    "    # flattens a nested tuple\n",
    "    @staticmethod\n",
    "    def flatten(x,l=[]):\n",
    "        if not isinstance(x[0],tuple):\n",
    "            l.extend([x])\n",
    "        else:\n",
    "            for i in x:\n",
    "                CPT.flatten(i,l)\n",
    "        return l"
   ]
  },
  {
   "cell_type": "code",
   "execution_count": 6,
   "metadata": {},
   "outputs": [
    {
     "name": "stdout",
     "output_type": "stream",
     "text": [
      "CPT for variable B\n",
      "P(B|~A) = 0.1500\n",
      "P(B| A) = 0.3000\n",
      "\n"
     ]
    }
   ],
   "source": [
    "tabla = CPT(\n",
    "        'B',[('A',0.3),('~A',0.15)])\n",
    "print(tabla)"
   ]
  },
  {
   "cell_type": "code",
   "execution_count": 7,
   "metadata": {},
   "outputs": [
    {
     "data": {
      "text/plain": [
       "'\\nRed bayesiana\\nLa siguiente es una implementación en Python de la RB.\\nHemos dejado indicado donde debes agregar tu código para la tarea de programación.\\n'"
      ]
     },
     "execution_count": 7,
     "metadata": {},
     "output_type": "execute_result"
    }
   ],
   "source": [
    "\"\"\"\n",
    "Red bayesiana\n",
    "La siguiente es una implementación en Python de la RB.\n",
    "Hemos dejado indicado donde debes agregar tu código para la tarea de programación.\n",
    "\"\"\""
   ]
  },
  {
   "cell_type": "code",
   "execution_count": 8,
   "metadata": {},
   "outputs": [],
   "source": [
    "class BayesianNetwork:\n",
    "    \n",
    "    #Initializes the Bayesian network\n",
    "    # cpts a dictionary with the conditional probability tables\n",
    "    # the dictionary is indexed by the vertex variable\n",
    "    def __init__(self,cpts=None):\n",
    "        if cpts is not None:\n",
    "            self.cpts = cpts\n",
    "            self.variables = set(cpts.keys())\n",
    "        else:\n",
    "            self.cpts = {}\n",
    "            self.variables = set()\n",
    "        \n",
    "    def setTable(self,table):\n",
    "        self.cpts[table.variable]=table\n",
    "        self.variables.add(table.variable)\n",
    "        \n",
    "    # computes the probability expressed in the given query\n",
    "    def query(self,q):\n",
    "        if \"|\" in q:\n",
    "            s = q.split(\"|\")\n",
    "            p = self.query(s[0]+\",\"+s[1])/self.query(s[1])\n",
    "        else:\n",
    "            #obtains all variables in the query\n",
    "            mentioned = CPT.parseVariables(q)\n",
    "            #obtains the missing variables\n",
    "            missing = set(self.variables).difference(mentioned)\n",
    "            if not missing:\n",
    "                p = self.atomic(q)\n",
    "            else:\n",
    "                p = self.nonatomic(q,missing)\n",
    "        return p\n",
    "\n",
    "    # computes the probability of an atomic event            \n",
    "    def atomic(self,q):\n",
    "        p = 1\n",
    "        q_literals = CPT.stringToLiteralList(q)\n",
    "        for v in q_literals:\n",
    "            s = \",\".join(\\\n",
    "            map(lambda x:str(x), filter(lambda x:x.variable \\\n",
    "            in self.cpts[v.variable].parents,q_literals)))\n",
    "            p *= self.cpts[v.variable][s] \\\n",
    "            if v.value else 1-self.cpts[v.variable][s]\n",
    "        return p\n",
    "    \n",
    "    # debes modificar este método para calcular la probabilidad\n",
    "    # de un evento no atómico\n",
    "    def nonatomic(self,q,missing):\n",
    "        p = 0\n",
    "        for key in CPT.computeKeys(missing):\n",
    "            # inserta tu código aquí, borra la palabra pass\n",
    "            # debes actualizar el valor de p aquí\n",
    "            pass\n",
    "        \n",
    "        return p\n",
    "    \n",
    "    def __str__(self):\n",
    "        s = ''\n",
    "        for v in self.variables:\n",
    "            s += str(self.cpts[v])+\"\\n\"\n",
    "        return s\n"
   ]
  },
  {
   "cell_type": "code",
   "execution_count": 9,
   "metadata": {},
   "outputs": [
    {
     "data": {
      "text/plain": [
       "['~A,~B', '~A, B', ' A,~B', ' A, B']"
      ]
     },
     "execution_count": 9,
     "metadata": {},
     "output_type": "execute_result"
    }
   ],
   "source": [
    "#ejemplo del uso del método computeKeys\n",
    "tabla.computeKeys({'A','B'})"
   ]
  },
  {
   "cell_type": "code",
   "execution_count": 10,
   "metadata": {},
   "outputs": [
    {
     "data": {
      "text/plain": [
       "'\\nEn la tarea te pediremos calcular algunas probabilidades del ejemplo del homicida en el tren.\\nComenzamos por crear la RB:\\n'"
      ]
     },
     "execution_count": 10,
     "metadata": {},
     "output_type": "execute_result"
    }
   ],
   "source": [
    "\"\"\"\n",
    "En la tarea te pediremos calcular algunas probabilidades del ejemplo del homicida en el tren.\n",
    "Comenzamos por crear la RB:\n",
    "\"\"\""
   ]
  },
  {
   "cell_type": "code",
   "execution_count": 11,
   "metadata": {},
   "outputs": [
    {
     "name": "stdout",
     "output_type": "stream",
     "text": [
      "CPT for variable homicida\n",
      "P(homicida) = 0.0100\n",
      "\n",
      "CPT for variable sangre\n",
      "P(sangre|~homicida) = 0.1000\n",
      "P(sangre| homicida) = 0.8000\n",
      "\n",
      "CPT for variable cuchillo\n",
      "P(cuchillo|~homicida) = 0.2500\n",
      "P(cuchillo| homicida) = 0.8500\n",
      "\n",
      "\n"
     ]
    }
   ],
   "source": [
    "\n",
    "#define las probabilidades de transición de la red\n",
    "homicida_t= CPT(\n",
    "        'homicida',\n",
    "        [('',0.01)])\n",
    "sangre_t = CPT(\n",
    "        'sangre',[('homicida',0.8),('~homicida',0.1)])\n",
    "cuchillo_t = CPT(\n",
    "        'cuchillo',[('homicida',0.85),('~homicida',0.25)])\n",
    "\n",
    "#crea la red\n",
    "bn = BayesianNetwork({\n",
    "        'homicida':homicida_t,\n",
    "        'cuchillo':cuchillo_t,\n",
    "        'sangre':sangre_t})\n",
    "\n",
    "print(bn)\n"
   ]
  },
  {
   "cell_type": "code",
   "execution_count": 14,
   "metadata": {},
   "outputs": [],
   "source": [
    "def tarea():\n",
    "    #perform queries\n",
    "    print(\"P(homicida) = \"+str(bn.query(\"homicida\")))\n",
    "    print(\"P(sangre) = \"+str(bn.query(\"sangre\")))\n",
    "    print(\"P(cuchillo) = \"+str(bn.query(\"cuchillo\")))\n",
    "    print(\"P(~cuchillo) = \"+str(bn.query(\"~cuchillo\")))\n",
    "    print(\"P(~cuchillo|homicida) = \"+str(bn.query(\"~cuchillo|homicida\")))\n",
    "    print(\"P(homicida|cuchillo,sangre) = \"+str(bn.query(\"homicida|cuchillo,sangre\")))"
   ]
  },
  {
   "cell_type": "code",
   "execution_count": 16,
   "metadata": {},
   "outputs": [
    {
     "name": "stdout",
     "output_type": "stream",
     "text": [
      "P(homicida) = 0\n",
      "P(sangre) = 0\n",
      "P(cuchillo) = 0\n",
      "P(~cuchillo) = 0\n",
      "division by zero\n"
     ]
    }
   ],
   "source": [
    "# descomenta y ejecuta la siguiente línea\n",
    "# Ejecutar la tarea para probar la solución\n",
    "try:\n",
    "    tarea()\n",
    "except ZeroDivisionError as e:\n",
    "    print(e)"
   ]
  },
  {
   "cell_type": "code",
   "execution_count": 18,
   "metadata": {},
   "outputs": [
    {
     "name": "stdout",
     "output_type": "stream",
     "text": [
      "P(homicida) = 0.01\n",
      "No se pudo encontrar la probabilidad para 'sangre'\n"
     ]
    }
   ],
   "source": [
    "class BayesianNetwork:\n",
    "    def __init__(self, nodes):\n",
    "        self.nodes = nodes\n",
    "\n",
    "    def query(self, q):\n",
    "        if \"|\" in q:\n",
    "            event, given = q.split(\"|\")\n",
    "            p_given = self.query(given)\n",
    "            if p_given == 0:\n",
    "                raise ZeroDivisionError(f\"La probabilidad de '{given}' es cero, no se puede calcular la probabilidad condicional.\")\n",
    "            p_joint = self.query(f\"{event},{given}\")\n",
    "            return p_joint / p_given\n",
    "        else:\n",
    "            variables = q.split(\",\")\n",
    "            prob = 1.0\n",
    "            for var in variables:\n",
    "                if var.startswith(\"~\"):\n",
    "                    base_var = var[1:]\n",
    "                    p = self.prob(base_var)\n",
    "                    if p is not None:\n",
    "                        prob *= 1 - p\n",
    "                    else:\n",
    "                        raise ValueError(f\"No se pudo encontrar la probabilidad para '{base_var}'\")\n",
    "                else:\n",
    "                    p = self.prob(var)\n",
    "                    if p is not None:\n",
    "                        prob *= p\n",
    "                    else:\n",
    "                        raise ValueError(f\"No se pudo encontrar la probabilidad para '{var}'\")\n",
    "            return prob\n",
    "\n",
    "    def prob(self, var):\n",
    "        if var not in self.nodes:\n",
    "            return None\n",
    "        return self.nodes[var].get_prob('')\n",
    "\n",
    "def tarea():\n",
    "    # Definir las probabilidades de transición de la red\n",
    "    homicida_t = CPT('homicida', [('', 0.01)])\n",
    "    sangre_t = CPT('sangre', [('homicida', 0.8), ('~homicida', 0.1)])\n",
    "    cuchillo_t = CPT('cuchillo', [('homicida', 0.85), ('~homicida', 0.25)])\n",
    "\n",
    "    # Crear la red\n",
    "    bn = BayesianNetwork({\n",
    "        'homicida': homicida_t,\n",
    "        'cuchillo': cuchillo_t,\n",
    "        'sangre': sangre_t\n",
    "    })\n",
    "\n",
    "    # Realizar las consultas\n",
    "    print(\"P(homicida) = \" + str(bn.query(\"homicida\")))\n",
    "    print(\"P(sangre) = \" + str(bn.query(\"sangre\")))\n",
    "    print(\"P(cuchillo) = \" + str(bn.query(\"cuchillo\")))\n",
    "    print(\"P(~cuchillo) = \" + str(bn.query(\"~cuchillo\")))\n",
    "    print(\"P(~cuchillo|homicida) = \" + str(bn.query(\"~cuchillo|homicida\")))\n",
    "    print(\"P(homicida|cuchillo,sangre) = \" + str(bn.query(\"homicida|cuchillo,sangre\")))\n",
    "\n",
    "# Ejecutar la tarea para probar la solución\n",
    "try:\n",
    "    tarea()\n",
    "except (ZeroDivisionError, ValueError) as e:\n",
    "    print(e)\n"
   ]
  }
 ],
 "metadata": {
  "kernelspec": {
   "display_name": "Python 3",
   "language": "python",
   "name": "python3"
  },
  "language_info": {
   "codemirror_mode": {
    "name": "ipython",
    "version": 3
   },
   "file_extension": ".py",
   "mimetype": "text/x-python",
   "name": "python",
   "nbconvert_exporter": "python",
   "pygments_lexer": "ipython3",
   "version": "3.6.5"
  }
 },
 "nbformat": 4,
 "nbformat_minor": 2
}
